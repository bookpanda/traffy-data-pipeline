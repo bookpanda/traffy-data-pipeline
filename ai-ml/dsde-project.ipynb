{
 "cells": [
  {
   "cell_type": "code",
   "execution_count": 14,
   "metadata": {
    "_cell_guid": "b1076dfc-b9ad-4769-8c92-a6c4dae69d19",
    "_uuid": "8f2839f25d086af736a60e9eeb907d3b93b6e0e5",
    "execution": {
     "iopub.execute_input": "2025-05-07T09:29:32.791557Z",
     "iopub.status.busy": "2025-05-07T09:29:32.791083Z",
     "iopub.status.idle": "2025-05-07T09:29:32.806634Z",
     "shell.execute_reply": "2025-05-07T09:29:32.805982Z",
     "shell.execute_reply.started": "2025-05-07T09:29:32.791459Z"
    },
    "trusted": true
   },
   "outputs": [
    {
     "name": "stdout",
     "output_type": "stream",
     "text": [
      "/kaggle/input/dsde-scrape/scraped_data_1k.csv\n",
      "/kaggle/input/cleaned-dsde-project/final_df.csv\n"
     ]
    }
   ],
   "source": [
    "# This Python 3 environment comes with many helpful analytics libraries installed\n",
    "# It is defined by the kaggle/python Docker image: https://github.com/kaggle/docker-python\n",
    "# For example, here's several helpful packages to load\n",
    "\n",
    "import numpy as np # linear algebra\n",
    "import pandas as pd # data processing, CSV file I/O (e.g. pd.read_csv)\n",
    "\n",
    "# Input data files are available in the read-only \"../input/\" directory\n",
    "# For example, running this (by clicking run or pressing Shift+Enter) will list all files under the input directory\n",
    "\n",
    "import os\n",
    "for dirname, _, filenames in os.walk('/kaggle/input'):\n",
    "    for filename in filenames:\n",
    "        print(os.path.join(dirname, filename))\n",
    "\n",
    "# You can write up to 20GB to the current directory (/kaggle/working/) that gets preserved as output when you create a version using \"Save & Run All\" \n",
    "# You can also write temporary files to /kaggle/temp/, but they won't be saved outside of the current session"
   ]
  },
  {
   "cell_type": "code",
   "execution_count": 15,
   "metadata": {
    "execution": {
     "iopub.execute_input": "2025-05-07T09:29:32.808177Z",
     "iopub.status.busy": "2025-05-07T09:29:32.807903Z",
     "iopub.status.idle": "2025-05-07T09:29:36.162466Z",
     "shell.execute_reply": "2025-05-07T09:29:36.161644Z",
     "shell.execute_reply.started": "2025-05-07T09:29:32.808159Z"
    },
    "trusted": true
   },
   "outputs": [],
   "source": [
    "!pip install -q qdrant-client sentence-transformers"
   ]
  },
  {
   "cell_type": "code",
   "execution_count": 1,
   "metadata": {
    "execution": {
     "iopub.execute_input": "2025-05-07T09:29:36.164140Z",
     "iopub.status.busy": "2025-05-07T09:29:36.163498Z",
     "iopub.status.idle": "2025-05-07T09:29:36.498445Z",
     "shell.execute_reply": "2025-05-07T09:29:36.497689Z",
     "shell.execute_reply.started": "2025-05-07T09:29:36.164109Z"
    },
    "trusted": true
   },
   "outputs": [
    {
     "name": "stderr",
     "output_type": "stream",
     "text": [
      "c:\\Users\\USER\\anaconda3\\envs\\dsde2024s2\\lib\\site-packages\\sentence_transformers\\cross_encoder\\CrossEncoder.py:13: TqdmWarning: IProgress not found. Please update jupyter and ipywidgets. See https://ipywidgets.readthedocs.io/en/stable/user_install.html\n",
      "  from tqdm.autonotebook import tqdm, trange\n"
     ]
    },
    {
     "ename": "ModuleNotFoundError",
     "evalue": "No module named 'kaggle_secrets'",
     "output_type": "error",
     "traceback": [
      "\u001b[1;31m---------------------------------------------------------------------------\u001b[0m",
      "\u001b[1;31mModuleNotFoundError\u001b[0m                       Traceback (most recent call last)",
      "Cell \u001b[1;32mIn[1], line 4\u001b[0m\n\u001b[0;32m      2\u001b[0m \u001b[38;5;28;01mfrom\u001b[39;00m \u001b[38;5;21;01mqdrant_client\u001b[39;00m\u001b[38;5;21;01m.\u001b[39;00m\u001b[38;5;21;01mhttp\u001b[39;00m\u001b[38;5;21;01m.\u001b[39;00m\u001b[38;5;21;01mmodels\u001b[39;00m \u001b[38;5;28;01mimport\u001b[39;00m VectorParams, Distance, PointStruct\n\u001b[0;32m      3\u001b[0m \u001b[38;5;28;01mfrom\u001b[39;00m \u001b[38;5;21;01msentence_transformers\u001b[39;00m \u001b[38;5;28;01mimport\u001b[39;00m SentenceTransformer\n\u001b[1;32m----> 4\u001b[0m \u001b[38;5;28;01mfrom\u001b[39;00m \u001b[38;5;21;01mkaggle_secrets\u001b[39;00m \u001b[38;5;28;01mimport\u001b[39;00m UserSecretsClient\n\u001b[0;32m      6\u001b[0m user_secrets \u001b[38;5;241m=\u001b[39m UserSecretsClient()\n\u001b[0;32m      7\u001b[0m QDRANT_API_KEY \u001b[38;5;241m=\u001b[39m user_secrets\u001b[38;5;241m.\u001b[39mget_secret(\u001b[38;5;124m\"\u001b[39m\u001b[38;5;124mqdrant\u001b[39m\u001b[38;5;124m\"\u001b[39m)\n",
      "\u001b[1;31mModuleNotFoundError\u001b[0m: No module named 'kaggle_secrets'"
     ]
    }
   ],
   "source": [
    "from qdrant_client import QdrantClient\n",
    "from qdrant_client.http.models import VectorParams, Distance, PointStruct\n",
    "from sentence_transformers import SentenceTransformer\n",
    "from kaggle_secrets import UserSecretsClient\n",
    "\n",
    "user_secrets = UserSecretsClient()\n",
    "QDRANT_API_KEY = user_secrets.get_secret(\"qdrant\")\n",
    "QDRANT_HOST = \"07961b0b-8262-43ec-9fcb-1552dd055ebd.us-east4-0.gcp.cloud.qdrant.io\"  # Replace with your actual host\n",
    "\n",
    "# Connect to Qdrant Cloud\n",
    "client = QdrantClient(\n",
    "    url=f\"https://{QDRANT_HOST}\",\n",
    "    api_key=QDRANT_API_KEY,\n",
    ")"
   ]
  },
  {
   "cell_type": "code",
   "execution_count": 2,
   "metadata": {
    "execution": {
     "iopub.execute_input": "2025-05-07T09:29:36.500447Z",
     "iopub.status.busy": "2025-05-07T09:29:36.500236Z",
     "iopub.status.idle": "2025-05-07T09:29:37.378885Z",
     "shell.execute_reply": "2025-05-07T09:29:37.377961Z",
     "shell.execute_reply.started": "2025-05-07T09:29:36.500431Z"
    },
    "trusted": true
   },
   "outputs": [
    {
     "name": "stderr",
     "output_type": "stream",
     "text": [
      "No sentence-transformers model found with name kornwtp/ConGen-simcse-model-roberta-base-thai. Creating a new one with mean pooling.\n"
     ]
    }
   ],
   "source": [
    "model = SentenceTransformer('kornwtp/ConGen-simcse-model-roberta-base-thai')"
   ]
  },
  {
   "cell_type": "code",
   "execution_count": 18,
   "metadata": {
    "execution": {
     "iopub.execute_input": "2025-05-07T09:29:37.381326Z",
     "iopub.status.busy": "2025-05-07T09:29:37.381098Z",
     "iopub.status.idle": "2025-05-07T09:29:37.388157Z",
     "shell.execute_reply": "2025-05-07T09:29:37.387418Z",
     "shell.execute_reply.started": "2025-05-07T09:29:37.381289Z"
    },
    "trusted": true
   },
   "outputs": [],
   "source": [
    "import ast\n",
    "def normalize_coordinates(coords):\n",
    "    coords_np = np.array(coords)\n",
    "\n",
    "    # Ensure it's a 2D array (n_samples, 2)\n",
    "    if coords_np.ndim == 1:\n",
    "        coords_np = np.stack(coords_np)\n",
    "\n",
    "    coord_min = coords_np.min(axis=0)\n",
    "    coord_max = coords_np.max(axis=0)\n",
    "    normalized_coords = (coords_np - coord_min) / (coord_max - coord_min + 1e-8)\n",
    "    return normalized_coords, coord_min, coord_max\n",
    "\n",
    "def transform_coordinates(coords,coord_min,coord_max):\n",
    "    coords_np = np.array(coords)\n",
    "\n",
    "    # Ensure it's a 2D array (n_samples, 2)\n",
    "    if coords_np.ndim == 1:\n",
    "        coords_np = np.stack(coords_np)\n",
    "\n",
    "    normalized_coords = (coords_np - coord_min) / (coord_max - coord_min + 1e-8)\n",
    "    return normalized_coords\n",
    "\n",
    "def parse_coords(coord_str):\n",
    "    try:\n",
    "        # Convert string like \"[13.75,100.50]\" to list\n",
    "        lat, lon = ast.literal_eval(coord_str)\n",
    "        return [lon, lat]  # Convert to [lon, lat]\n",
    "    except Exception:\n",
    "        return np.nan\n",
    "\n",
    "def preprocess_texts(texts, max_char_len=100):\n",
    "    cleaned = []\n",
    "    for t in texts:\n",
    "        if not isinstance(t, str):\n",
    "            continue\n",
    "        t = t.strip()\n",
    "        if len(t) == 0:\n",
    "            continue\n",
    "        cleaned.append(t[:max_char_len])  # truncate long ones\n",
    "    return cleaned"
   ]
  },
  {
   "cell_type": "markdown",
   "metadata": {},
   "source": [
    "# **Deal with a SCRAPED data which is mismatch from old data**"
   ]
  },
  {
   "cell_type": "code",
   "execution_count": 19,
   "metadata": {
    "execution": {
     "iopub.execute_input": "2025-05-07T09:29:37.388974Z",
     "iopub.status.busy": "2025-05-07T09:29:37.388754Z",
     "iopub.status.idle": "2025-05-07T09:29:37.405747Z",
     "shell.execute_reply": "2025-05-07T09:29:37.405076Z",
     "shell.execute_reply.started": "2025-05-07T09:29:37.388954Z"
    },
    "trusted": true
   },
   "outputs": [],
   "source": [
    "from sklearn.model_selection import train_test_split"
   ]
  },
  {
   "cell_type": "code",
   "execution_count": 20,
   "metadata": {
    "execution": {
     "iopub.execute_input": "2025-05-07T09:29:37.406563Z",
     "iopub.status.busy": "2025-05-07T09:29:37.406375Z",
     "iopub.status.idle": "2025-05-07T09:29:37.447697Z",
     "shell.execute_reply": "2025-05-07T09:29:37.446970Z",
     "shell.execute_reply.started": "2025-05-07T09:29:37.406549Z"
    },
    "trusted": true
   },
   "outputs": [],
   "source": [
    "scrape = pd.read_csv(\"/kaggle/input/dsde-scrape/scraped_data_1k.csv\")\n",
    "selected_columns = [\"type\",\"organization\",\"comment\",\"longitude\",\"latitude\"]\n",
    "scrape = scrape[selected_columns]"
   ]
  },
  {
   "cell_type": "code",
   "execution_count": 21,
   "metadata": {
    "execution": {
     "iopub.execute_input": "2025-05-07T09:29:37.448678Z",
     "iopub.status.busy": "2025-05-07T09:29:37.448488Z",
     "iopub.status.idle": "2025-05-07T09:29:37.507613Z",
     "shell.execute_reply": "2025-05-07T09:29:37.506950Z",
     "shell.execute_reply.started": "2025-05-07T09:29:37.448663Z"
    },
    "trusted": true
   },
   "outputs": [],
   "source": [
    "import re\n",
    "interested_type = ['PM2.5', 'การเดินทาง', 'กีดขวาง',\n",
    "       'คนจรจัด', 'คลอง', 'ความปลอดภัย', 'ความสะอาด', 'จราจร', 'ต้นไม้', 'ถนน',\n",
    "       'ทางเท้า', 'ท่อระบายน้ำ', 'น้ำท่วม', 'ป้าย', 'ป้ายจราจร', 'ร้องเรียน',\n",
    "       'สอบถาม', 'สะพาน', 'สัตว์จรจัด', 'สายไฟ', 'ห้องน้ำ', 'เสนอแนะ',\n",
    "       'เสียงรบกวน', 'แสงสว่าง']\n",
    "\n",
    "# Function to clean and parse a type string\n",
    "def parse_type_string(s):\n",
    "    if not isinstance(s, str):\n",
    "        return []\n",
    "    s = s.strip(\"[]\")\n",
    "    items = re.split(r'[,&]', s)\n",
    "    return [item.strip() for item in items if item.strip()]\n",
    "\n",
    "\n",
    "# Create one-hot columns\n",
    "for itype in interested_type:\n",
    "    scrape[itype] = scrape['type'].apply(lambda x: int(itype in parse_type_string(x)))\n",
    "scrape['coords'] = scrape.apply(lambda row: [row['latitude'], row['longitude']], axis=1)\n",
    "scrape.drop(columns=['type','longitude','latitude'], inplace = True)"
   ]
  },
  {
   "cell_type": "code",
   "execution_count": 22,
   "metadata": {
    "execution": {
     "iopub.execute_input": "2025-05-07T09:29:37.508574Z",
     "iopub.status.busy": "2025-05-07T09:29:37.508361Z",
     "iopub.status.idle": "2025-05-07T09:29:37.518775Z",
     "shell.execute_reply": "2025-05-07T09:29:37.518143Z",
     "shell.execute_reply.started": "2025-05-07T09:29:37.508559Z"
    },
    "trusted": true
   },
   "outputs": [],
   "source": [
    "train2, test2 = train_test_split(\n",
    "    scrape,\n",
    "    test_size=0.2,\n",
    "    random_state=42              \n",
    ")"
   ]
  },
  {
   "cell_type": "markdown",
   "metadata": {},
   "source": [
    "# **Merge with old date**"
   ]
  },
  {
   "cell_type": "code",
   "execution_count": 23,
   "metadata": {
    "execution": {
     "iopub.execute_input": "2025-05-07T09:29:37.520267Z",
     "iopub.status.busy": "2025-05-07T09:29:37.519518Z",
     "iopub.status.idle": "2025-05-07T09:29:41.863660Z",
     "shell.execute_reply": "2025-05-07T09:29:41.862865Z",
     "shell.execute_reply.started": "2025-05-07T09:29:37.520250Z"
    },
    "trusted": true
   },
   "outputs": [],
   "source": [
    "df = pd.read_csv('/kaggle/input/cleaned-dsde-project/final_df.csv', index_col=0)\n",
    "df['coords'] = df['coords'].apply(parse_coords)"
   ]
  },
  {
   "cell_type": "code",
   "execution_count": 24,
   "metadata": {
    "execution": {
     "iopub.execute_input": "2025-05-07T09:29:41.864795Z",
     "iopub.status.busy": "2025-05-07T09:29:41.864536Z",
     "iopub.status.idle": "2025-05-07T09:29:42.225999Z",
     "shell.execute_reply": "2025-05-07T09:29:42.225447Z",
     "shell.execute_reply.started": "2025-05-07T09:29:41.864771Z"
    },
    "trusted": true
   },
   "outputs": [],
   "source": [
    "from sklearn.model_selection import train_test_split\n",
    "\n",
    "train, test = train_test_split(\n",
    "    df,\n",
    "    test_size=0.2,              \n",
    "    stratify=df['organization'],\n",
    "    random_state=42              \n",
    ")\n",
    "train = pd.concat([train, train2], ignore_index=True)\n",
    "test = pd.concat([test, test2], ignore_index=True)"
   ]
  },
  {
   "cell_type": "markdown",
   "metadata": {},
   "source": [
    "# **Upload to qdrant**"
   ]
  },
  {
   "cell_type": "code",
   "execution_count": 25,
   "metadata": {
    "execution": {
     "iopub.execute_input": "2025-05-07T09:29:42.226881Z",
     "iopub.status.busy": "2025-05-07T09:29:42.226688Z",
     "iopub.status.idle": "2025-05-07T09:29:42.231360Z",
     "shell.execute_reply": "2025-05-07T09:29:42.230627Z",
     "shell.execute_reply.started": "2025-05-07T09:29:42.226866Z"
    },
    "trusted": true
   },
   "outputs": [],
   "source": [
    "def batch_upload(client, collection_name, points, batch_size=1000):\n",
    "    for i in range(0, len(points), batch_size):\n",
    "        batch = points[i:i+batch_size]\n",
    "        client.upsert(collection_name=collection_name, points=batch)"
   ]
  },
  {
   "cell_type": "code",
   "execution_count": null,
   "metadata": {
    "execution": {
     "iopub.execute_input": "2025-05-07T09:29:42.232415Z",
     "iopub.status.busy": "2025-05-07T09:29:42.232165Z",
     "iopub.status.idle": "2025-05-07T09:29:42.242964Z",
     "shell.execute_reply": "2025-05-07T09:29:42.242354Z",
     "shell.execute_reply.started": "2025-05-07T09:29:42.232391Z"
    },
    "trusted": true
   },
   "outputs": [],
   "source": [
    "def upload_to_qdrant(train):\n",
    "    # Extract and remove 'organization', 'comment', and 'coords' from the DataFrame\n",
    "    organizations = train.pop('organization').tolist()\n",
    "    texts = train.pop(\"comment\").tolist()\n",
    "    texts = preprocess_texts(texts, 800)\n",
    "    coords = train.pop('coords').values\n",
    "    types = train.to_numpy()\n",
    "    \n",
    "    # Normalize coordinates \n",
    "    normalized_coords, coord_min, coord_max = normalize_coordinates(coords)\n",
    "    \n",
    "    # Embed the text using the Thai model\n",
    "    text_vecs = model.encode(texts)\n",
    "    \n",
    "    # # Embed and Normalize vecs\n",
    "    # text_vecs = model.encode(texts)\n",
    "    # text_vecs = text_vecs / np.linalg.norm(text_vecs, axis=1, keepdims=True)\n",
    "    \n",
    "    # Combine text embeddings with coordinates (hstack)\n",
    "    combined_vectors = np.hstack([text_vecs, normalized_coords, types])\n",
    "    \n",
    "    # Define the collection name\n",
    "    collection_name = \"dsde_project\"\n",
    "    \n",
    "    # Only create the collection if it doesn't already exist\n",
    "    if collection_name not in [col.name for col in client.get_collections().collections]:\n",
    "        client.create_collection(\n",
    "            collection_name=collection_name,\n",
    "            vectors_config=VectorParams(size=combined_vectors.shape[1], distance=Distance.COSINE),\n",
    "        )\n",
    "    \n",
    "    # Prepare the points to upsert into Qdrant, including 'organization' in payload\n",
    "    points = [\n",
    "        PointStruct(\n",
    "            id=i,\n",
    "            vector=combined_vectors[i].tolist(),\n",
    "            payload={\n",
    "                \"organization\": organizations[i]\n",
    "            }\n",
    "        )\n",
    "        for i in range(len(texts))\n",
    "    ]\n",
    "    \n",
    "    # Upload the points in batches\n",
    "    batch_upload(client, collection_name, points, batch_size=1000)\n",
    "    return coord_min, coord_max"
   ]
  },
  {
   "cell_type": "code",
   "execution_count": 27,
   "metadata": {
    "execution": {
     "iopub.execute_input": "2025-05-07T09:29:42.245862Z",
     "iopub.status.busy": "2025-05-07T09:29:42.245637Z",
     "iopub.status.idle": "2025-05-07T09:29:42.798722Z",
     "shell.execute_reply": "2025-05-07T09:29:42.798059Z",
     "shell.execute_reply.started": "2025-05-07T09:29:42.245837Z"
    },
    "trusted": true
   },
   "outputs": [],
   "source": [
    "coord_min, coord_max= upload_to_qdrant(train)"
   ]
  },
  {
   "cell_type": "code",
   "execution_count": 28,
   "metadata": {
    "execution": {
     "iopub.execute_input": "2025-05-07T09:29:42.800628Z",
     "iopub.status.busy": "2025-05-07T09:29:42.800405Z",
     "iopub.status.idle": "2025-05-07T09:29:42.805453Z",
     "shell.execute_reply": "2025-05-07T09:29:42.804562Z",
     "shell.execute_reply.started": "2025-05-07T09:29:42.800611Z"
    },
    "trusted": true
   },
   "outputs": [
    {
     "name": "stdout",
     "output_type": "stream",
     "text": [
      "[3.74644 0.46217] [ 14.13452 100.93493]\n"
     ]
    }
   ],
   "source": [
    "print(coord_min, coord_max)"
   ]
  },
  {
   "cell_type": "markdown",
   "metadata": {},
   "source": [
    "# **Evaluation**"
   ]
  },
  {
   "cell_type": "code",
   "execution_count": 29,
   "metadata": {
    "execution": {
     "iopub.execute_input": "2025-05-07T09:29:42.806485Z",
     "iopub.status.busy": "2025-05-07T09:29:42.806243Z",
     "iopub.status.idle": "2025-05-07T09:29:42.818337Z",
     "shell.execute_reply": "2025-05-07T09:29:42.817584Z",
     "shell.execute_reply.started": "2025-05-07T09:29:42.806453Z"
    },
    "trusted": true
   },
   "outputs": [],
   "source": [
    "from qdrant_client.http.models import SearchRequest"
   ]
  },
  {
   "cell_type": "code",
   "execution_count": 30,
   "metadata": {
    "execution": {
     "iopub.execute_input": "2025-05-07T09:29:42.819166Z",
     "iopub.status.busy": "2025-05-07T09:29:42.818958Z",
     "iopub.status.idle": "2025-05-07T09:32:06.649858Z",
     "shell.execute_reply": "2025-05-07T09:32:06.649013Z",
     "shell.execute_reply.started": "2025-05-07T09:29:42.819150Z"
    },
    "trusted": true
   },
   "outputs": [
    {
     "data": {
      "application/vnd.jupyter.widget-view+json": {
       "model_id": "76fd39d1c61f42f2a879bd6c661c25f0",
       "version_major": 2,
       "version_minor": 0
      },
      "text/plain": [
       "Batches:   0%|          | 0/1268 [00:00<?, ?it/s]"
      ]
     },
     "metadata": {},
     "output_type": "display_data"
    }
   ],
   "source": [
    "test_y = test.pop('organization')\n",
    "test_texts = test.pop(\"comment\").tolist()\n",
    "test_texts = preprocess_texts(test_texts,800)\n",
    "test_coords = test.pop('coords').values\n",
    "test_types = test.to_numpy()\n",
    "\n",
    "# Normalize coordinates \n",
    "test_normalized_coords = transform_coordinates(test_coords, coord_min,coord_max)\n",
    "\n",
    "# Embed the text using the Thai model\n",
    "test_text_vecs = model.encode(test_texts)\n",
    "# test_text_vecs = test_text_vecs / np.linalg.norm(test_text_vecs, axis=1, keepdims=True)\n",
    "\n",
    "# Combine text embeddings with coordinates (hstack)\n",
    "query_vectors = np.hstack([test_text_vecs, test_normalized_coords, test_types])"
   ]
  },
  {
   "cell_type": "code",
   "execution_count": 31,
   "metadata": {
    "execution": {
     "iopub.execute_input": "2025-05-07T09:32:06.651045Z",
     "iopub.status.busy": "2025-05-07T09:32:06.650815Z",
     "iopub.status.idle": "2025-05-07T09:32:06.657382Z",
     "shell.execute_reply": "2025-05-07T09:32:06.656680Z",
     "shell.execute_reply.started": "2025-05-07T09:32:06.651027Z"
    },
    "trusted": true
   },
   "outputs": [],
   "source": [
    "def batch_query(client, collection_name, query_vectors, batch_size=1000, top_k=5):\n",
    "    results = []\n",
    "    for i in range(0, len(query_vectors), batch_size):\n",
    "        batch = query_vectors[i:i + batch_size]\n",
    "        # Prepare search requests for the batch\n",
    "        search_requests = [\n",
    "            SearchRequest(\n",
    "                vector=vec.tolist(),\n",
    "                limit=top_k,\n",
    "                with_payload=True\n",
    "            ) for vec in batch\n",
    "        ]\n",
    "        \n",
    "        # Perform batch search\n",
    "        result_batch = client.search_batch(\n",
    "            collection_name=collection_name,\n",
    "            requests=search_requests,\n",
    "\n",
    "        )\n",
    "        \n",
    "        # Collect the results\n",
    "        results.extend(result_batch)\n",
    "    \n",
    "    return results"
   ]
  },
  {
   "cell_type": "code",
   "execution_count": 32,
   "metadata": {
    "execution": {
     "iopub.execute_input": "2025-05-07T09:32:06.658701Z",
     "iopub.status.busy": "2025-05-07T09:32:06.658147Z",
     "iopub.status.idle": "2025-05-07T09:37:36.478768Z",
     "shell.execute_reply": "2025-05-07T09:37:36.478149Z",
     "shell.execute_reply.started": "2025-05-07T09:32:06.658675Z"
    },
    "trusted": true
   },
   "outputs": [
    {
     "name": "stderr",
     "output_type": "stream",
     "text": [
      "/tmp/ipykernel_31/160039704.py:15: DeprecationWarning: `search_batch` method is deprecated and will be removed in the future. Use `query_batch_points` instead.\n",
      "  result_batch = client.search_batch(\n"
     ]
    }
   ],
   "source": [
    "results = batch_query(client, collection_name=\"dsde_project\", query_vectors=query_vectors, batch_size=80, top_k=5)"
   ]
  },
  {
   "cell_type": "code",
   "execution_count": 33,
   "metadata": {
    "execution": {
     "iopub.execute_input": "2025-05-07T09:37:36.479628Z",
     "iopub.status.busy": "2025-05-07T09:37:36.479450Z",
     "iopub.status.idle": "2025-05-07T09:37:36.483545Z",
     "shell.execute_reply": "2025-05-07T09:37:36.482718Z",
     "shell.execute_reply.started": "2025-05-07T09:37:36.479613Z"
    },
    "trusted": true
   },
   "outputs": [],
   "source": [
    "from collections import Counter"
   ]
  },
  {
   "cell_type": "code",
   "execution_count": 34,
   "metadata": {
    "execution": {
     "iopub.execute_input": "2025-05-07T09:37:36.484507Z",
     "iopub.status.busy": "2025-05-07T09:37:36.484202Z",
     "iopub.status.idle": "2025-05-07T09:37:36.497017Z",
     "shell.execute_reply": "2025-05-07T09:37:36.496352Z",
     "shell.execute_reply.started": "2025-05-07T09:37:36.484483Z"
    },
    "trusted": true
   },
   "outputs": [
    {
     "name": "stdout",
     "output_type": "stream",
     "text": [
      "[ScoredPoint(id=95710, version=95, score=0.78198403, payload={'organization': 'เขตราชเทวี,สน.พญาไท,สำนักงานตำรวจแห่งชาติ (Royal Thai Police),กองบัญชาการตำรวจนครบาล (บช.น.),กองบังคับการตำรวจนครบาล 1 (บก.น.1)'}, vector=None, shard_key=None, order_value=None), ScoredPoint(id=119605, version=119, score=0.74834085, payload={'organization': 'เขตจตุจักร,สน.พหลโยธิน,สำนักงานตำรวจแห่งชาติ (Royal Thai Police),กองบัญชาการตำรวจนครบาล (บช.น.),กองบังคับการตำรวจนครบาล 2 (บก.น.2)'}, vector=None, shard_key=None, order_value=None), ScoredPoint(id=123629, version=123, score=0.737333, payload={'organization': 'เขตจตุจักร,ฝ่ายเทศกิจ เขตจตุจักร,ผอ.เขตจตุจักร (นางสาวภัทร์กร),กลุ่มกรุงเทพเหนือ (นางวันทนีย์ วัฒนะ)'}, vector=None, shard_key=None, order_value=None), ScoredPoint(id=82250, version=82, score=0.73646903, payload={'organization': 'เขตบางพลัด,สน.บางพลัด,สำนักงานตำรวจแห่งชาติ (Royal Thai Police),กองบัญชาการตำรวจนครบาล (บช.น.),กองบังคับการตำรวจนครบาล 7 (บก.น.7)'}, vector=None, shard_key=None, order_value=None), ScoredPoint(id=62225, version=62, score=0.71949226, payload={'organization': 'เขตวัฒนา,ฝ่ายเทศกิจ เขตวัฒนา'}, vector=None, shard_key=None, order_value=None)]\n"
     ]
    }
   ],
   "source": [
    "print(results[0])"
   ]
  },
  {
   "cell_type": "code",
   "execution_count": 35,
   "metadata": {
    "execution": {
     "iopub.execute_input": "2025-05-07T09:37:36.497784Z",
     "iopub.status.busy": "2025-05-07T09:37:36.497607Z",
     "iopub.status.idle": "2025-05-07T09:37:37.245351Z",
     "shell.execute_reply": "2025-05-07T09:37:37.244566Z",
     "shell.execute_reply.started": "2025-05-07T09:37:36.497770Z"
    },
    "trusted": true
   },
   "outputs": [],
   "source": [
    "all_organizations = [[point.payload.get(\"organization\") for point in result] for result in results]\n",
    "test_y = test_y.reset_index(drop=True)\n",
    "\n",
    "intop5 = 0\n",
    "k = [0,0,0,0,0]\n",
    "\n",
    "for i in range(test.shape[0]):\n",
    "    pred = all_organizations[i]\n",
    "    gt = test_y.iloc[i]\n",
    "\n",
    "    if gt in pred:\n",
    "        intop5 += 1\n",
    "        \n",
    "    for j in range(1,6):\n",
    "        most_common_label = Counter(pred[:j]).most_common(1)[0][0]\n",
    "        if most_common_label == gt:\n",
    "            k[j-1] += 1"
   ]
  },
  {
   "cell_type": "code",
   "execution_count": 36,
   "metadata": {
    "execution": {
     "iopub.execute_input": "2025-05-07T09:37:37.246436Z",
     "iopub.status.busy": "2025-05-07T09:37:37.246211Z",
     "iopub.status.idle": "2025-05-07T09:37:37.530874Z",
     "shell.execute_reply": "2025-05-07T09:37:37.530184Z",
     "shell.execute_reply.started": "2025-05-07T09:37:37.246419Z"
    },
    "trusted": true
   },
   "outputs": [
    {
     "data": {
      "image/png": "[encoded data removed]",
      "text/plain": [
       "<Figure size 800x600 with 1 Axes>"
      ]
     },
     "metadata": {},
     "output_type": "display_data"
    }
   ],
   "source": [
    "import matplotlib.pyplot as plt\n",
    "# Create a plot\n",
    "plt.figure(figsize=(8, 6))\n",
    "plt.plot(range(1, 6), k, marker='o', linestyle='-', color='b', label='Correct Predictions')\n",
    "\n",
    "# Add labels and title\n",
    "plt.title(\"Correct Predictions for Top 1 to 5\")\n",
    "plt.xlabel(\"Top-N Predictions\")\n",
    "plt.ylabel(\"Number of Correct Predictions\")\n",
    "plt.xticks(range(1, 6))  # Ensure the x-axis has ticks for 1 to 5\n",
    "plt.grid(True)\n",
    "\n",
    "# Show the plot\n",
    "plt.legend()\n",
    "plt.show()"
   ]
  },
  {
   "cell_type": "code",
   "execution_count": 37,
   "metadata": {
    "execution": {
     "iopub.execute_input": "2025-05-07T09:37:37.532350Z",
     "iopub.status.busy": "2025-05-07T09:37:37.531631Z",
     "iopub.status.idle": "2025-05-07T09:37:37.537064Z",
     "shell.execute_reply": "2025-05-07T09:37:37.536349Z",
     "shell.execute_reply.started": "2025-05-07T09:37:37.532323Z"
    },
    "trusted": true
   },
   "outputs": [
    {
     "name": "stdout",
     "output_type": "stream",
     "text": [
      "Top-5 Accuracy: 0.4773\n",
      "k=1 Accuracy: 0.3200\n",
      "k=2 Accuracy: 0.3200\n",
      "k=3 Accuracy: 0.3206\n",
      "k=4 Accuracy: 0.3180\n",
      "k=5 Accuracy: 0.3137\n"
     ]
    }
   ],
   "source": [
    "accuracy = intop5 / test.shape[0]\n",
    "print(f\"Top-5 Accuracy: {accuracy:.4f}\")\n",
    "\n",
    "# Convert to accuracy by dividing by number of samples\n",
    "k_accuracy = [correct / len(test_y) for correct in k]\n",
    "\n",
    "# Print results\n",
    "for idx, acc in enumerate(k_accuracy, 1):\n",
    "    print(f\"k={idx} Accuracy: {acc:.4f}\")"
   ]
  }
 ],
 "metadata": {
  "kaggle": {
   "accelerator": "nvidiaTeslaT4",
   "dataSources": [
    {
     "datasetId": 7342114,
     "sourceId": 11697579,
     "sourceType": "datasetVersion"
    },
    {
     "datasetId": 7345712,
     "sourceId": 11702981,
     "sourceType": "datasetVersion"
    }
   ],
   "dockerImageVersionId": 31012,
   "isGpuEnabled": true,
   "isInternetEnabled": true,
   "language": "python",
   "sourceType": "notebook"
  },
  "kernelspec": {
   "display_name": "dsde2024s2",
   "language": "python",
   "name": "python3"
  },
  "language_info": {
   "codemirror_mode": {
    "name": "ipython",
    "version": 3
   },
   "file_extension": ".py",
   "mimetype": "text/x-python",
   "name": "python",
   "nbconvert_exporter": "python",
   "pygments_lexer": "ipython3",
   "version": "3.8.20"
  }
 },
 "nbformat": 4,
 "nbformat_minor": 4
}
