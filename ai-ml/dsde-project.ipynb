{
 "cells": [
  {
   "cell_type": "code",
   "execution_count": 50,
   "metadata": {
    "_cell_guid": "b1076dfc-b9ad-4769-8c92-a6c4dae69d19",
    "_uuid": "8f2839f25d086af736a60e9eeb907d3b93b6e0e5",
    "execution": {
     "iopub.execute_input": "2025-05-07T06:40:06.968745Z",
     "iopub.status.busy": "2025-05-07T06:40:06.968447Z",
     "iopub.status.idle": "2025-05-07T06:40:06.993473Z",
     "shell.execute_reply": "2025-05-07T06:40:06.992760Z",
     "shell.execute_reply.started": "2025-05-07T06:40:06.968723Z"
    },
    "trusted": true
   },
   "outputs": [
    {
     "name": "stdout",
     "output_type": "stream",
     "text": [
      "/kaggle/input/dsde-scrape/scraped_data_1k.csv\n",
      "/kaggle/input/cleaned-dsde-project/final_df.csv\n"
     ]
    }
   ],
   "source": [
    "# This Python 3 environment comes with many helpful analytics libraries installed\n",
    "# It is defined by the kaggle/python Docker image: https://github.com/kaggle/docker-python\n",
    "# For example, here's several helpful packages to load\n",
    "\n",
    "import numpy as np # linear algebra\n",
    "import pandas as pd # data processing, CSV file I/O (e.g. pd.read_csv)\n",
    "\n",
    "# Input data files are available in the read-only \"../input/\" directory\n",
    "# For example, running this (by clicking run or pressing Shift+Enter) will list all files under the input directory\n",
    "\n",
    "import os\n",
    "for dirname, _, filenames in os.walk('/kaggle/input'):\n",
    "    for filename in filenames:\n",
    "        print(os.path.join(dirname, filename))\n",
    "\n",
    "# You can write up to 20GB to the current directory (/kaggle/working/) that gets preserved as output when you create a version using \"Save & Run All\" \n",
    "# You can also write temporary files to /kaggle/temp/, but they won't be saved outside of the current session"
   ]
  },
  {
   "cell_type": "code",
   "execution_count": 51,
   "metadata": {
    "execution": {
     "iopub.execute_input": "2025-05-07T06:40:06.995101Z",
     "iopub.status.busy": "2025-05-07T06:40:06.994662Z",
     "iopub.status.idle": "2025-05-07T06:40:10.517128Z",
     "shell.execute_reply": "2025-05-07T06:40:10.516146Z",
     "shell.execute_reply.started": "2025-05-07T06:40:06.995084Z"
    },
    "trusted": true
   },
   "outputs": [
    {
     "name": "stderr",
     "output_type": "stream",
     "text": [
      "huggingface/tokenizers: The current process just got forked, after parallelism has already been used. Disabling parallelism to avoid deadlocks...\n",
      "To disable this warning, you can either:\n",
      "\t- Avoid using `tokenizers` before the fork if possible\n",
      "\t- Explicitly set the environment variable TOKENIZERS_PARALLELISM=(true | false)\n"
     ]
    }
   ],
   "source": [
    "!pip install -q qdrant-client sentence-transformers"
   ]
  },
  {
   "cell_type": "code",
   "execution_count": 52,
   "metadata": {
    "execution": {
     "iopub.execute_input": "2025-05-07T06:40:10.518559Z",
     "iopub.status.busy": "2025-05-07T06:40:10.518278Z",
     "iopub.status.idle": "2025-05-07T06:40:10.881980Z",
     "shell.execute_reply": "2025-05-07T06:40:10.881426Z",
     "shell.execute_reply.started": "2025-05-07T06:40:10.518532Z"
    },
    "trusted": true
   },
   "outputs": [],
   "source": [
    "from qdrant_client import QdrantClient\n",
    "from qdrant_client.http.models import VectorParams, Distance, PointStruct\n",
    "from sentence_transformers import SentenceTransformer\n",
    "from kaggle_secrets import UserSecretsClient\n",
    "\n",
    "user_secrets = UserSecretsClient()\n",
    "QDRANT_API_KEY = user_secrets.get_secret(\"qdrant\")\n",
    "QDRANT_HOST = \"07961b0b-8262-43ec-9fcb-1552dd055ebd.us-east4-0.gcp.cloud.qdrant.io\"  # Replace with your actual host\n",
    "\n",
    "# Connect to Qdrant Cloud\n",
    "client = QdrantClient(\n",
    "    url=f\"https://{QDRANT_HOST}\",\n",
    "    api_key=QDRANT_API_KEY,\n",
    ")"
   ]
  },
  {
   "cell_type": "code",
   "execution_count": 53,
   "metadata": {
    "execution": {
     "iopub.execute_input": "2025-05-07T06:40:10.883983Z",
     "iopub.status.busy": "2025-05-07T06:40:10.883800Z",
     "iopub.status.idle": "2025-05-07T06:40:12.391239Z",
     "shell.execute_reply": "2025-05-07T06:40:12.390459Z",
     "shell.execute_reply.started": "2025-05-07T06:40:10.883969Z"
    },
    "trusted": true
   },
   "outputs": [],
   "source": [
    "model = SentenceTransformer('kornwtp/ConGen-simcse-model-roberta-base-thai')"
   ]
  },
  {
   "cell_type": "code",
   "execution_count": null,
   "metadata": {
    "execution": {
     "iopub.execute_input": "2025-05-07T06:40:12.392325Z",
     "iopub.status.busy": "2025-05-07T06:40:12.392065Z",
     "iopub.status.idle": "2025-05-07T06:40:12.398930Z",
     "shell.execute_reply": "2025-05-07T06:40:12.398096Z",
     "shell.execute_reply.started": "2025-05-07T06:40:12.392303Z"
    },
    "trusted": true
   },
   "outputs": [],
   "source": [
    "import ast\n",
    "def normalize_coordinates(coords):\n",
    "    coords_np = np.array(coords)\n",
    "\n",
    "    # Ensure it's a 2D array (n_samples, 2)\n",
    "    if coords_np.ndim == 1:\n",
    "        coords_np = np.stack(coords_np)\n",
    "\n",
    "    coord_min = coords_np.min(axis=0)\n",
    "    coord_max = coords_np.max(axis=0)\n",
    "    normalized_coords = (coords_np - coord_min) / (coord_max - coord_min + 1e-8)\n",
    "    return normalized_coords, coord_min, coord_max\n",
    "\n",
    "def transform_coordinates(coords,coord_min,coord_max):\n",
    "    coords_np = np.array(coords)\n",
    "\n",
    "    # Ensure it's a 2D array (n_samples, 2)\n",
    "    if coords_np.ndim == 1:\n",
    "        coords_np = np.stack(coords_np)\n",
    "\n",
    "    normalized_coords = (coords_np - coord_min) / (coord_max - coord_min + 1e-8)\n",
    "    return normalized_coords\n",
    "\n",
    "def parse_coords(coord_str):\n",
    "    try:\n",
    "        # Convert string like \"[13.75,100.50]\" to list\n",
    "        lat, lon = ast.literal_eval(coord_str)\n",
    "        return [lon, lat]  # Convert to [lon, lat]\n",
    "    except Exception:\n",
    "        return np.nan\n",
    "\n",
    "def preprocess_texts(texts, max_char_len=100):\n",
    "    cleaned = []\n",
    "    for t in texts:\n",
    "        if not isinstance(t, str):\n",
    "            continue\n",
    "        t = t.strip()\n",
    "        if len(t) == 0:\n",
    "            continue\n",
    "        cleaned.append(t[:max_char_len])  # truncate long ones\n",
    "    return cleaned"
   ]
  },
  {
   "cell_type": "markdown",
   "metadata": {},
   "source": [
    "# **Deal with a SCRAPED data which is mismatch from old data**"
   ]
  },
  {
   "cell_type": "code",
   "execution_count": 55,
   "metadata": {
    "execution": {
     "iopub.execute_input": "2025-05-07T06:40:12.399991Z",
     "iopub.status.busy": "2025-05-07T06:40:12.399744Z",
     "iopub.status.idle": "2025-05-07T06:40:12.414379Z",
     "shell.execute_reply": "2025-05-07T06:40:12.413876Z",
     "shell.execute_reply.started": "2025-05-07T06:40:12.399968Z"
    },
    "trusted": true
   },
   "outputs": [],
   "source": [
    "from sklearn.model_selection import train_test_split"
   ]
  },
  {
   "cell_type": "code",
   "execution_count": 56,
   "metadata": {
    "execution": {
     "iopub.execute_input": "2025-05-07T06:40:12.415793Z",
     "iopub.status.busy": "2025-05-07T06:40:12.415485Z",
     "iopub.status.idle": "2025-05-07T06:40:12.455376Z",
     "shell.execute_reply": "2025-05-07T06:40:12.454851Z",
     "shell.execute_reply.started": "2025-05-07T06:40:12.415776Z"
    },
    "trusted": true
   },
   "outputs": [],
   "source": [
    "scrape = pd.read_csv(\"/kaggle/input/dsde-scrape/scraped_data_1k.csv\")\n",
    "selected_columns = [\"type\",\"organization\",\"comment\",\"longitude\",\"latitude\"]\n",
    "scrape = scrape[selected_columns]"
   ]
  },
  {
   "cell_type": "code",
   "execution_count": 57,
   "metadata": {
    "execution": {
     "iopub.execute_input": "2025-05-07T06:40:12.456219Z",
     "iopub.status.busy": "2025-05-07T06:40:12.456063Z",
     "iopub.status.idle": "2025-05-07T06:40:12.522690Z",
     "shell.execute_reply": "2025-05-07T06:40:12.521929Z",
     "shell.execute_reply.started": "2025-05-07T06:40:12.456206Z"
    },
    "trusted": true
   },
   "outputs": [],
   "source": [
    "import re\n",
    "interested_type = ['PM2.5', 'การเดินทาง', 'กีดขวาง',\n",
    "       'คนจรจัด', 'คลอง', 'ความปลอดภัย', 'ความสะอาด', 'จราจร', 'ต้นไม้', 'ถนน',\n",
    "       'ทางเท้า', 'ท่อระบายน้ำ', 'น้ำท่วม', 'ป้าย', 'ป้ายจราจร', 'ร้องเรียน',\n",
    "       'สอบถาม', 'สะพาน', 'สัตว์จรจัด', 'สายไฟ', 'ห้องน้ำ', 'เสนอแนะ',\n",
    "       'เสียงรบกวน', 'แสงสว่าง']\n",
    "\n",
    "# Function to clean and parse a type string\n",
    "def parse_type_string(s):\n",
    "    if not isinstance(s, str):\n",
    "        return []\n",
    "    s = s.strip(\"[]\")\n",
    "    items = re.split(r'[,&]', s)\n",
    "    return [item.strip() for item in items if item.strip()]\n",
    "\n",
    "\n",
    "# Create one-hot columns\n",
    "for itype in interested_type:\n",
    "    scrape[itype] = scrape['type'].apply(lambda x: int(itype in parse_type_string(x)))\n",
    "scrape['coords'] = scrape.apply(lambda row: [row['latitude'], row['longitude']], axis=1)\n",
    "scrape.drop(columns=['type','longitude','latitude'], inplace = True)"
   ]
  },
  {
   "cell_type": "code",
   "execution_count": 58,
   "metadata": {
    "execution": {
     "iopub.execute_input": "2025-05-07T06:40:12.523814Z",
     "iopub.status.busy": "2025-05-07T06:40:12.523515Z",
     "iopub.status.idle": "2025-05-07T06:40:12.531242Z",
     "shell.execute_reply": "2025-05-07T06:40:12.530533Z",
     "shell.execute_reply.started": "2025-05-07T06:40:12.523796Z"
    },
    "trusted": true
   },
   "outputs": [],
   "source": [
    "train2, test2 = train_test_split(\n",
    "    scrape,\n",
    "    test_size=0.2,\n",
    "    random_state=42              \n",
    ")"
   ]
  },
  {
   "cell_type": "markdown",
   "metadata": {},
   "source": [
    "# **Merge with old date**"
   ]
  },
  {
   "cell_type": "code",
   "execution_count": 59,
   "metadata": {
    "execution": {
     "iopub.execute_input": "2025-05-07T06:40:12.534369Z",
     "iopub.status.busy": "2025-05-07T06:40:12.534112Z",
     "iopub.status.idle": "2025-05-07T06:40:17.220791Z",
     "shell.execute_reply": "2025-05-07T06:40:17.220208Z",
     "shell.execute_reply.started": "2025-05-07T06:40:12.534349Z"
    },
    "trusted": true
   },
   "outputs": [],
   "source": [
    "df = pd.read_csv('/kaggle/input/cleaned-dsde-project/final_df.csv', index_col=0)\n",
    "df['coords'] = df['coords'].apply(parse_coords)"
   ]
  },
  {
   "cell_type": "code",
   "execution_count": 72,
   "metadata": {
    "execution": {
     "iopub.execute_input": "2025-05-07T06:49:16.014016Z",
     "iopub.status.busy": "2025-05-07T06:49:16.013736Z",
     "iopub.status.idle": "2025-05-07T06:49:16.388097Z",
     "shell.execute_reply": "2025-05-07T06:49:16.387541Z",
     "shell.execute_reply.started": "2025-05-07T06:49:16.013995Z"
    },
    "trusted": true
   },
   "outputs": [],
   "source": [
    "from sklearn.model_selection import train_test_split\n",
    "\n",
    "train, test = train_test_split(\n",
    "    df,\n",
    "    test_size=0.2,              \n",
    "    stratify=df['organization'],\n",
    "    random_state=42              \n",
    ")\n",
    "train = pd.concat([train, train2], ignore_index=True)\n",
    "test = pd.concat([test, test2], ignore_index=True)"
   ]
  },
  {
   "cell_type": "markdown",
   "metadata": {},
   "source": [
    "# **Upload to qdrant**"
   ]
  },
  {
   "cell_type": "code",
   "execution_count": 61,
   "metadata": {
    "execution": {
     "iopub.execute_input": "2025-05-07T06:40:17.697356Z",
     "iopub.status.busy": "2025-05-07T06:40:17.697180Z",
     "iopub.status.idle": "2025-05-07T06:40:17.702483Z",
     "shell.execute_reply": "2025-05-07T06:40:17.701701Z",
     "shell.execute_reply.started": "2025-05-07T06:40:17.697342Z"
    },
    "trusted": true
   },
   "outputs": [],
   "source": [
    "def batch_upload(client, collection_name, points, batch_size=1000):\n",
    "    for i in range(0, len(points), batch_size):\n",
    "        batch = points[i:i+batch_size]\n",
    "        client.upsert(collection_name=collection_name, points=batch)"
   ]
  },
  {
   "cell_type": "code",
   "execution_count": null,
   "metadata": {
    "execution": {
     "iopub.execute_input": "2025-05-07T06:49:03.493428Z",
     "iopub.status.busy": "2025-05-07T06:49:03.493155Z",
     "iopub.status.idle": "2025-05-07T06:49:03.500247Z",
     "shell.execute_reply": "2025-05-07T06:49:03.499367Z",
     "shell.execute_reply.started": "2025-05-07T06:49:03.493408Z"
    },
    "trusted": true
   },
   "outputs": [],
   "source": [
    "def upload_to_qdrant(train):\n",
    "    # Extract and remove 'organization', 'comment', and 'coords' from the DataFrame\n",
    "    organizations = train.pop('organization').tolist()\n",
    "    texts = train.pop(\"comment\").tolist()\n",
    "    texts = preprocess_texts(texts, 800)\n",
    "    coords = train.pop('coords').values\n",
    "    types = train.to_numpy()\n",
    "    \n",
    "    # Normalize coordinates \n",
    "    normalized_coords, coord_min, coord_max = normalize_coordinates(coords)\n",
    "    \n",
    "    # Embed the text using the Thai model\n",
    "    text_vecs = model.encode(texts)\n",
    "    \n",
    "    # # Embed and Normalize vecs\n",
    "    # text_vecs = model.encode(texts)\n",
    "    # text_vecs = text_vecs / np.linalg.norm(text_vecs, axis=1, keepdims=True)\n",
    "    \n",
    "    # Combine text embeddings with coordinates (hstack)\n",
    "    combined_vectors = np.hstack([text_vecs, normalized_coords, types])\n",
    "    \n",
    "    # Define the collection name\n",
    "    collection_name = \"dsde_project\"\n",
    "    \n",
    "    # Only create the collection if it doesn't already exist\n",
    "    if collection_name not in [col.name for col in client.get_collections().collections]:\n",
    "        client.create_collection(\n",
    "            collection_name=collection_name,\n",
    "            vectors_config=VectorParams(size=combined_vectors.shape[1], distance=Distance.COSINE),\n",
    "        )\n",
    "    \n",
    "    # Prepare the points to upsert into Qdrant, including 'organization' in payload\n",
    "    points = [\n",
    "        PointStruct(\n",
    "            id=i,\n",
    "            vector=combined_vectors[i].tolist(),\n",
    "            payload={\n",
    "                \"organization\": organizations[i]\n",
    "            }\n",
    "        )\n",
    "        for i in range(len(texts))\n",
    "    ]\n",
    "    \n",
    "    # Upload the points in batches\n",
    "    batch_upload(client, collection_name, points, batch_size=1000)\n",
    "    return coord_min, coord_max"
   ]
  },
  {
   "cell_type": "code",
   "execution_count": null,
   "metadata": {
    "execution": {
     "iopub.execute_input": "2025-05-07T06:49:26.599090Z",
     "iopub.status.busy": "2025-05-07T06:49:26.598820Z",
     "iopub.status.idle": "2025-05-07T07:03:45.941430Z",
     "shell.execute_reply": "2025-05-07T07:03:45.940666Z",
     "shell.execute_reply.started": "2025-05-07T06:49:26.599070Z"
    },
    "trusted": true
   },
   "outputs": [
    {
     "data": {
      "application/vnd.jupyter.widget-view+json": {
       "model_id": "dbb7be07bcbc4fad8008e1a1699df4f0",
       "version_major": 2,
       "version_minor": 0
      },
      "text/plain": [
       "Batches:   0%|          | 0/5072 [00:00<?, ?it/s]"
      ]
     },
     "metadata": {},
     "output_type": "display_data"
    }
   ],
   "source": [
    "coord_min, coord_max= upload_to_qdrant(train)"
   ]
  },
  {
   "cell_type": "code",
   "execution_count": null,
   "metadata": {},
   "outputs": [],
   "source": [
    "print(coord_min, coord_max)"
   ]
  },
  {
   "cell_type": "markdown",
   "metadata": {},
   "source": [
    "# **Evaluation**"
   ]
  },
  {
   "cell_type": "code",
   "execution_count": 74,
   "metadata": {
    "execution": {
     "iopub.execute_input": "2025-05-07T07:03:45.944391Z",
     "iopub.status.busy": "2025-05-07T07:03:45.944163Z",
     "iopub.status.idle": "2025-05-07T07:03:45.948002Z",
     "shell.execute_reply": "2025-05-07T07:03:45.947391Z",
     "shell.execute_reply.started": "2025-05-07T07:03:45.944374Z"
    },
    "trusted": true
   },
   "outputs": [],
   "source": [
    "from qdrant_client.http.models import SearchRequest"
   ]
  },
  {
   "cell_type": "code",
   "execution_count": null,
   "metadata": {
    "execution": {
     "iopub.execute_input": "2025-05-07T07:03:45.948971Z",
     "iopub.status.busy": "2025-05-07T07:03:45.948722Z",
     "iopub.status.idle": "2025-05-07T07:05:46.105815Z",
     "shell.execute_reply": "2025-05-07T07:05:46.105037Z",
     "shell.execute_reply.started": "2025-05-07T07:03:45.948951Z"
    },
    "trusted": true
   },
   "outputs": [
    {
     "data": {
      "application/vnd.jupyter.widget-view+json": {
       "model_id": "354654083353426e8d13b26debe298b5",
       "version_major": 2,
       "version_minor": 0
      },
      "text/plain": [
       "Batches:   0%|          | 0/1268 [00:00<?, ?it/s]"
      ]
     },
     "metadata": {},
     "output_type": "display_data"
    }
   ],
   "source": [
    "test_y = test.pop('organization')\n",
    "test_texts = test.pop(\"comment\").tolist()\n",
    "test_texts = preprocess_texts(test_texts,800)\n",
    "test_coords = test.pop('coords').values\n",
    "test_types = test.to_numpy()\n",
    "\n",
    "# Normalize coordinates \n",
    "test_normalized_coords = transform_coordinates(test_coords)\n",
    "\n",
    "# Embed the text using the Thai model\n",
    "test_text_vecs = model.encode(test_texts)\n",
    "# test_text_vecs = test_text_vecs / np.linalg.norm(test_text_vecs, axis=1, keepdims=True)\n",
    "\n",
    "# Combine text embeddings with coordinates (hstack)\n",
    "query_vectors = np.hstack([test_text_vecs, test_normalized_coords, test_types])"
   ]
  },
  {
   "cell_type": "code",
   "execution_count": 76,
   "metadata": {
    "execution": {
     "iopub.execute_input": "2025-05-07T07:05:46.112406Z",
     "iopub.status.busy": "2025-05-07T07:05:46.112185Z",
     "iopub.status.idle": "2025-05-07T07:05:46.119806Z",
     "shell.execute_reply": "2025-05-07T07:05:46.119057Z",
     "shell.execute_reply.started": "2025-05-07T07:05:46.112389Z"
    },
    "trusted": true
   },
   "outputs": [],
   "source": [
    "def batch_query(client, collection_name, query_vectors, batch_size=1000, top_k=5):\n",
    "    results = []\n",
    "    for i in range(0, len(query_vectors), batch_size):\n",
    "        batch = query_vectors[i:i + batch_size]\n",
    "        # Prepare search requests for the batch\n",
    "        search_requests = [\n",
    "            SearchRequest(\n",
    "                vector=vec.tolist(),\n",
    "                limit=top_k,\n",
    "                with_payload=True\n",
    "            ) for vec in batch\n",
    "        ]\n",
    "        \n",
    "        # Perform batch search\n",
    "        result_batch = client.search_batch(\n",
    "            collection_name=collection_name,\n",
    "            requests=search_requests,\n",
    "\n",
    "        )\n",
    "        \n",
    "        # Collect the results\n",
    "        results.extend(result_batch)\n",
    "    \n",
    "    return results"
   ]
  },
  {
   "cell_type": "code",
   "execution_count": 78,
   "metadata": {
    "execution": {
     "iopub.execute_input": "2025-05-07T07:13:36.498968Z",
     "iopub.status.busy": "2025-05-07T07:13:36.498337Z",
     "iopub.status.idle": "2025-05-07T07:19:16.091758Z",
     "shell.execute_reply": "2025-05-07T07:19:16.090936Z",
     "shell.execute_reply.started": "2025-05-07T07:13:36.498942Z"
    },
    "trusted": true
   },
   "outputs": [
    {
     "name": "stderr",
     "output_type": "stream",
     "text": [
      "/tmp/ipykernel_31/160039704.py:15: DeprecationWarning: `search_batch` method is deprecated and will be removed in the future. Use `query_batch_points` instead.\n",
      "  result_batch = client.search_batch(\n"
     ]
    }
   ],
   "source": [
    "results = batch_query(client, collection_name=\"dsde_project\", query_vectors=query_vectors, batch_size=80, top_k=5)"
   ]
  },
  {
   "cell_type": "code",
   "execution_count": null,
   "metadata": {
    "execution": {
     "iopub.status.busy": "2025-05-07T07:05:51.416441Z",
     "iopub.status.idle": "2025-05-07T07:05:51.416808Z",
     "shell.execute_reply": "2025-05-07T07:05:51.416610Z",
     "shell.execute_reply.started": "2025-05-07T07:05:51.416594Z"
    },
    "trusted": true
   },
   "outputs": [],
   "source": [
    "from collections import Counter"
   ]
  },
  {
   "cell_type": "code",
   "execution_count": 79,
   "metadata": {
    "execution": {
     "iopub.execute_input": "2025-05-07T07:19:16.095459Z",
     "iopub.status.busy": "2025-05-07T07:19:16.095200Z",
     "iopub.status.idle": "2025-05-07T07:19:16.102522Z",
     "shell.execute_reply": "2025-05-07T07:19:16.101875Z",
     "shell.execute_reply.started": "2025-05-07T07:19:16.095441Z"
    },
    "trusted": true
   },
   "outputs": [
    {
     "name": "stdout",
     "output_type": "stream",
     "text": [
      "[ScoredPoint(id=95710, version=95, score=0.7819802, payload={'organization': 'เขตราชเทวี,สน.พญาไท,สำนักงานตำรวจแห่งชาติ (Royal Thai Police),กองบัญชาการตำรวจนครบาล (บช.น.),กองบังคับการตำรวจนครบาล 1 (บก.น.1)'}, vector=None, shard_key=None, order_value=None), ScoredPoint(id=119605, version=119, score=0.7483364, payload={'organization': 'เขตจตุจักร,สน.พหลโยธิน,สำนักงานตำรวจแห่งชาติ (Royal Thai Police),กองบัญชาการตำรวจนครบาล (บช.น.),กองบังคับการตำรวจนครบาล 2 (บก.น.2)'}, vector=None, shard_key=None, order_value=None), ScoredPoint(id=123629, version=123, score=0.73732823, payload={'organization': 'เขตจตุจักร,ฝ่ายเทศกิจ เขตจตุจักร,ผอ.เขตจตุจักร (นางสาวภัทร์กร),กลุ่มกรุงเทพเหนือ (นางวันทนีย์ วัฒนะ)'}, vector=None, shard_key=None, order_value=None), ScoredPoint(id=82250, version=82, score=0.73646426, payload={'organization': 'เขตบางพลัด,สน.บางพลัด,สำนักงานตำรวจแห่งชาติ (Royal Thai Police),กองบัญชาการตำรวจนครบาล (บช.น.),กองบังคับการตำรวจนครบาล 7 (บก.น.7)'}, vector=None, shard_key=None, order_value=None), ScoredPoint(id=62225, version=62, score=0.71948695, payload={'organization': 'เขตวัฒนา,ฝ่ายเทศกิจ เขตวัฒนา'}, vector=None, shard_key=None, order_value=None)]\n"
     ]
    }
   ],
   "source": [
    "print(results[0])"
   ]
  },
  {
   "cell_type": "code",
   "execution_count": 81,
   "metadata": {
    "execution": {
     "iopub.execute_input": "2025-05-07T07:20:20.071598Z",
     "iopub.status.busy": "2025-05-07T07:20:20.070906Z",
     "iopub.status.idle": "2025-05-07T07:20:20.809033Z",
     "shell.execute_reply": "2025-05-07T07:20:20.808464Z",
     "shell.execute_reply.started": "2025-05-07T07:20:20.071573Z"
    },
    "trusted": true
   },
   "outputs": [],
   "source": [
    "all_organizations = [[point.payload.get(\"organization\") for point in result] for result in results]\n",
    "test_y = test_y.reset_index(drop=True)\n",
    "\n",
    "intop5 = 0\n",
    "k = [0,0,0,0,0]\n",
    "\n",
    "for i in range(test.shape[0]):\n",
    "    pred = all_organizations[i]\n",
    "    gt = test_y.iloc[i]\n",
    "\n",
    "    if gt in pred:\n",
    "        intop5 += 1\n",
    "        \n",
    "    for j in range(1,6):\n",
    "        most_common_label = Counter(pred[:j]).most_common(1)[0][0]\n",
    "        if most_common_label == gt:\n",
    "            k[j-1] += 1"
   ]
  },
  {
   "cell_type": "code",
   "execution_count": 82,
   "metadata": {
    "execution": {
     "iopub.execute_input": "2025-05-07T07:20:23.588153Z",
     "iopub.status.busy": "2025-05-07T07:20:23.587609Z",
     "iopub.status.idle": "2025-05-07T07:20:23.755779Z",
     "shell.execute_reply": "2025-05-07T07:20:23.754978Z",
     "shell.execute_reply.started": "2025-05-07T07:20:23.588131Z"
    },
    "trusted": true
   },
   "outputs": [
    {
     "data": {
      "image/png": "[encoded data removed]",
      "text/plain": [
       "<Figure size 800x600 with 1 Axes>"
      ]
     },
     "metadata": {},
     "output_type": "display_data"
    }
   ],
   "source": [
    "import matplotlib.pyplot as plt\n",
    "# Create a plot\n",
    "plt.figure(figsize=(8, 6))\n",
    "plt.plot(range(1, 6), k, marker='o', linestyle='-', color='b', label='Correct Predictions')\n",
    "\n",
    "# Add labels and title\n",
    "plt.title(\"Correct Predictions for Top 1 to 5\")\n",
    "plt.xlabel(\"Top-N Predictions\")\n",
    "plt.ylabel(\"Number of Correct Predictions\")\n",
    "plt.xticks(range(1, 6))  # Ensure the x-axis has ticks for 1 to 5\n",
    "plt.grid(True)\n",
    "\n",
    "# Show the plot\n",
    "plt.legend()\n",
    "plt.show()"
   ]
  },
  {
   "cell_type": "code",
   "execution_count": 83,
   "metadata": {
    "execution": {
     "iopub.execute_input": "2025-05-07T07:20:26.108295Z",
     "iopub.status.busy": "2025-05-07T07:20:26.107618Z",
     "iopub.status.idle": "2025-05-07T07:20:26.113033Z",
     "shell.execute_reply": "2025-05-07T07:20:26.112386Z",
     "shell.execute_reply.started": "2025-05-07T07:20:26.108269Z"
    },
    "trusted": true
   },
   "outputs": [
    {
     "name": "stdout",
     "output_type": "stream",
     "text": [
      "Top-5 Accuracy: 0.4625\n",
      "k=1 Accuracy: 0.3108\n",
      "k=2 Accuracy: 0.3108\n",
      "k=3 Accuracy: 0.3115\n",
      "k=4 Accuracy: 0.3089\n",
      "k=5 Accuracy: 0.3045\n"
     ]
    }
   ],
   "source": [
    "accuracy = intop5 / test.shape[0]\n",
    "print(f\"Top-5 Accuracy: {accuracy:.4f}\")\n",
    "\n",
    "# Convert to accuracy by dividing by number of samples\n",
    "k_accuracy = [correct / len(test_y) for correct in k]\n",
    "\n",
    "# Print results\n",
    "for idx, acc in enumerate(k_accuracy, 1):\n",
    "    print(f\"k={idx} Accuracy: {acc:.4f}\")"
   ]
  }
 ],
 "metadata": {
  "kaggle": {
   "accelerator": "nvidiaTeslaT4",
   "dataSources": [
    {
     "datasetId": 7342114,
     "sourceId": 11697579,
     "sourceType": "datasetVersion"
    },
    {
     "datasetId": 7345712,
     "sourceId": 11702981,
     "sourceType": "datasetVersion"
    }
   ],
   "dockerImageVersionId": 31012,
   "isGpuEnabled": true,
   "isInternetEnabled": true,
   "language": "python",
   "sourceType": "notebook"
  },
  "kernelspec": {
   "display_name": "Python 3",
   "language": "python",
   "name": "python3"
  },
  "language_info": {
   "codemirror_mode": {
    "name": "ipython",
    "version": 3
   },
   "file_extension": ".py",
   "mimetype": "text/x-python",
   "name": "python",
   "nbconvert_exporter": "python",
   "pygments_lexer": "ipython3",
   "version": "3.11.11"
  }
 },
 "nbformat": 4,
 "nbformat_minor": 4
}
